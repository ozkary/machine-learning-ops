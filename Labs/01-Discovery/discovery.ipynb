{
 "cells": [
  {
   "cell_type": "code",
   "execution_count": null,
   "metadata": {},
   "outputs": [],
   "source": [
    "import pandas as pd\n",
    "import pickle\n",
    "import matplotlib.pyplot as plt"
   ]
  },
  {
   "attachments": {},
   "cell_type": "markdown",
   "metadata": {},
   "source": [
    "# Exercise Requirements\n",
    "\n",
    "- Update the dependencies\n",
    "\n",
    "```\n",
    "pip install -r requirements.txt\n",
    "\n",
    "```\n",
    "\n",
    "- Download the files for Jan and Feb 2022 running these commands:\n",
    "\n",
    "```\n",
    "python3 discovery.py --url https://d37ci6vzurychx.cloudfront.net/trip-data/yellow_tripdata_2022-01.parquet --prefix yellow\n",
    "python3 discovery.py --url https://d37ci6vzurychx.cloudfront.net/trip-data/yellow_tripdata_2022-02.parquet --prefix yellow\n",
    "```\n",
    "\n"
   ]
  },
  {
   "attachments": {},
   "cell_type": "markdown",
   "metadata": {},
   "source": [
    "##  Downloading the data\n",
    "\n",
    "Read the data for January 2022. \n",
    "How many columns are there?"
   ]
  },
  {
   "cell_type": "code",
   "execution_count": null,
   "metadata": {},
   "outputs": [],
   "source": [
    "def read_parquet(file_path : str) -> pd.Dataframe: \n",
    "    df = pd.read_parquet(file_path)\n",
    "    return df\n",
    "\n",
    "jan_file = \"../data/yellow_tripdata_2022-01.parquet\"\n",
    "df_jan = read_parquet(jan_file)    \n",
    "print(F\" Jan 2022 Columns {df_jan.columns.count}\")"
   ]
  },
  {
   "attachments": {},
   "cell_type": "markdown",
   "metadata": {},
   "source": [
    "##  Computing duration\n",
    "\n",
    "Now let's compute the duration variable. It should contain the duration of a ride in minutes.\n",
    "What's the standard deviation of the trips duration in January?"
   ]
  },
  {
   "cell_type": "code",
   "execution_count": null,
   "metadata": {},
   "outputs": [],
   "source": [
    "def get_duration_std_dev(df : pd.DataFrame) -> float:\n",
    "\n",
    "    # Calculate the duration of each trip in the series\n",
    "    df['duration'] = df['tpep_dropoff_datetime'] - df['tpep_pickup_datetime']\n",
    "\n",
    "    # Calculate the standard deviation of trip durations\n",
    "    std_dev = df['duration'].std()\n",
    "    return std_dev\n",
    "\n",
    "\n",
    "std_dev_jan =get_duration_std_dev(df_jan)\n",
    "print(\"Standard Deviation of Jan 2022 Trip Durations:\", std_dev_jan)"
   ]
  },
  {
   "attachments": {},
   "cell_type": "markdown",
   "metadata": {},
   "source": [
    "##  Dropping outliers\n",
    "\n",
    "Next, we need to check the distribution of the duration variable. There are some outliers. Let's remove them and keep only the records where the duration was between 1 and 60 minutes (inclusive).\n",
    "\n",
    "What fraction of the records left after you dropped the outliers?"
   ]
  },
  {
   "cell_type": "code",
   "execution_count": null,
   "metadata": {},
   "outputs": [],
   "source": [
    "def drop_outliers(df : pd.DataFrame, min = 1, max = 60) -> pd.DataFrame:\n",
    "    # filter the DataFrame to keep durations min and max\n",
    "    df = df[(df['duration'] >= pd.Timedelta(minutes=min)) & (df['duration'] <= pd.Timedelta(minutes=max))]\n",
    "    return df\n",
    "\n",
    "def get_percentage_change(df_original : pd.DataFrame, df_filtered : pd.DataFrame) -> float:\n",
    "    return (len(df_filtered) / len(df_original)) * 100\n",
    "\n",
    "df_jan_filtered = drop_outliers(df_jan)\n",
    "# calculate the percentage of rows remaining \n",
    "percentage_remaining = get_percentage_change(df_jan, df_jan_filtered)\n",
    "print(\"percentage of Rows Remaining: {:.2f}%\".format(percentage_remaining))\n"
   ]
  },
  {
   "attachments": {},
   "cell_type": "markdown",
   "metadata": {},
   "source": [
    "## One-hot encoding\n",
    "\n",
    "Let's apply one-hot encoding to the pickup and dropoff location IDs. We'll use only these two features for our model.\n",
    "\n",
    "- Turn the dataframe into a list of dictionaries\n",
    "- Fit a dictionary vectorizer\n",
    "- Get a feature matrix from it\n",
    "- What's the dimensionality of this matrix (number of columns)?"
   ]
  },
  {
   "cell_type": "code",
   "execution_count": null,
   "metadata": {},
   "outputs": [],
   "source": [
    "def one_hot_encode(df : pd.DataFrame) \n",
    "    # apply one-hot encoding to pickup and dropoff location IDs\n",
    "    one_hot_encoded = pd.get_dummies(df[['PULocationID', 'DOLocationID']])\n"
   ]
  }
 ],
 "metadata": {
  "language_info": {
   "name": "python"
  },
  "orig_nbformat": 4
 },
 "nbformat": 4,
 "nbformat_minor": 2
}
